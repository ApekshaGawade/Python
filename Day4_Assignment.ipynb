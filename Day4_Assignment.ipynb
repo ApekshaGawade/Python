{
  "nbformat": 4,
  "nbformat_minor": 0,
  "metadata": {
    "colab": {
      "name": "Day4_Assignment.ipynb",
      "provenance": [],
      "collapsed_sections": [],
      "authorship_tag": "ABX9TyNwJsYQjvTi9HdCRUQF5Gay",
      "include_colab_link": true
    },
    "kernelspec": {
      "name": "python3",
      "display_name": "Python 3"
    },
    "language_info": {
      "name": "python"
    }
  },
  "cells": [
    {
      "cell_type": "markdown",
      "metadata": {
        "id": "view-in-github",
        "colab_type": "text"
      },
      "source": [
        "<a href=\"https://colab.research.google.com/github/ApekshaGawade/Python/blob/main/Day4_Assignment.ipynb\" target=\"_parent\"><img src=\"https://colab.research.google.com/assets/colab-badge.svg\" alt=\"Open In Colab\"/></a>"
      ]
    },
    {
      "cell_type": "code",
      "metadata": {
        "id": "yA3O1AwNkAro",
        "colab": {
          "base_uri": "https://localhost:8080/"
        },
        "outputId": "81a8cc3b-9ffe-43ff-817f-dfecd3e75a0b"
      },
      "source": [
        "#Temperature converter\n",
        "#Convert the temperature in Celsius to Fahrenheit (taken temperature in float to get accurate temperature)\n",
        "#F = C×(9/5)+32\n",
        "temp = float(input(\"Enter the temperature in Celsius: \"))\n",
        "Far_temp= temp* (9/5) + 32\n",
        "print(temp,\"°C in Fahrenheit is: \",Far_temp,\"°F\")"
      ],
      "execution_count": 5,
      "outputs": [
        {
          "output_type": "stream",
          "text": [
            "Enter the temperature in Celsius: 50\n",
            "50.0 °C in Fahrenheit is:  122.0 °F\n"
          ],
          "name": "stdout"
        }
      ]
    },
    {
      "cell_type": "code",
      "metadata": {
        "colab": {
          "base_uri": "https://localhost:8080/"
        },
        "id": "t_56q9ECf58j",
        "outputId": "6cf965a0-e21f-4cae-ee45-0e171bdbeab4"
      },
      "source": [
        "#Temperature converter\n",
        "#Convert the temperature in Celsius to Fahrenheit (taken temperature as int)\n",
        "#F = C×(9/5)+32\n",
        "\n",
        "temp = int(input(\"Enter the temperature in Celsius: \"))\n",
        "Far_temp= temp* (9/5) + 32\n",
        "print(temp,\"°C in Fahrenheit is: \",Far_temp,\"°F\")"
      ],
      "execution_count": 4,
      "outputs": [
        {
          "output_type": "stream",
          "text": [
            "Enter the temperature in Celsius: 50\n",
            "50 °C in Fahrenheit is:  122.0 °F\n"
          ],
          "name": "stdout"
        }
      ]
    }
  ]
}