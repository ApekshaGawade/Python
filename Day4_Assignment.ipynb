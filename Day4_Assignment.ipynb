{
  "nbformat": 4,
  "nbformat_minor": 0,
  "metadata": {
    "colab": {
      "name": "Day4_Assignment.ipynb",
      "provenance": [],
      "authorship_tag": "ABX9TyMfeVAP9jHduDJ1aUGpMC7n",
      "include_colab_link": true
    },
    "kernelspec": {
      "name": "python3",
      "display_name": "Python 3"
    },
    "language_info": {
      "name": "python"
    }
  },
  "cells": [
    {
      "cell_type": "markdown",
      "metadata": {
        "id": "view-in-github",
        "colab_type": "text"
      },
      "source": [
        "<a href=\"https://colab.research.google.com/github/ApekshaGawade/Python/blob/main/Day4_Assignment.ipynb\" target=\"_parent\"><img src=\"https://colab.research.google.com/assets/colab-badge.svg\" alt=\"Open In Colab\"/></a>"
      ]
    },
    {
      "cell_type": "code",
      "metadata": {
        "colab": {
          "base_uri": "https://localhost:8080/"
        },
        "id": "yA3O1AwNkAro",
        "outputId": "5a28bc08-7c9d-46ac-9996-dabb1615c35c"
      },
      "source": [
        "#Temperature in Celsius to Fahrenheit \n",
        "#F = C×(9/5)+32\n",
        "temp = float(input(\"Enter the temperature in degree: \"))\n",
        "Far_temp= temp* (9/5) + 32\n",
        "print(temp,\" Celsius in Fahrenheit is: \",Far_temp)"
      ],
      "execution_count": 1,
      "outputs": [
        {
          "output_type": "stream",
          "text": [
            "Enter the temperature in degree: 30.2\n",
            "30.2  Celsius in Fahrenheit is:  86.36\n"
          ],
          "name": "stdout"
        }
      ]
    }
  ]
}