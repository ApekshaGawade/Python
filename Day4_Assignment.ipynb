{
  "nbformat": 4,
  "nbformat_minor": 0,
  "metadata": {
    "colab": {
      "name": "Day4_Assignment.ipynb",
      "provenance": [],
      "collapsed_sections": [],
      "authorship_tag": "ABX9TyPPpSTQ7aZlyqykF54AHic1",
      "include_colab_link": true
    },
    "kernelspec": {
      "name": "python3",
      "display_name": "Python 3"
    },
    "language_info": {
      "name": "python"
    }
  },
  "cells": [
    {
      "cell_type": "markdown",
      "metadata": {
        "id": "view-in-github",
        "colab_type": "text"
      },
      "source": [
        "<a href=\"https://colab.research.google.com/github/ApekshaGawade/Python/blob/main/Day4_Assignment.ipynb\" target=\"_parent\"><img src=\"https://colab.research.google.com/assets/colab-badge.svg\" alt=\"Open In Colab\"/></a>"
      ]
    },
    {
      "cell_type": "code",
      "metadata": {
        "id": "yA3O1AwNkAro",
        "colab": {
          "base_uri": "https://localhost:8080/"
        },
        "outputId": "911d576a-d24c-4506-f8a5-b9b692218153"
      },
      "source": [
        "#Temperature in Celsius to Fahrenheit (taken temperature in float to get accurate temperature)\n",
        "#F = C×(9/5)+32\n",
        "temp = float(input(\"Enter the temperature in degree: \"))\n",
        "Far_temp= temp* (9/5) + 32\n",
        "print(temp,\"°C in Fahrenheit is: \",Far_temp,\"°F\")"
      ],
      "execution_count": 2,
      "outputs": [
        {
          "output_type": "stream",
          "text": [
            "Enter the temperature in degree: 50\n",
            "50.0 °C in Fahrenheit is:  122.0 °F\n"
          ],
          "name": "stdout"
        }
      ]
    }
  ]
}