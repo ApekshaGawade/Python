{
  "nbformat": 4,
  "nbformat_minor": 0,
  "metadata": {
    "colab": {
      "name": "Day1.ipynb",
      "provenance": [],
      "authorship_tag": "ABX9TyOANQSKJLvWVPfcsknASPCc",
      "include_colab_link": true
    },
    "kernelspec": {
      "name": "python3",
      "display_name": "Python 3"
    },
    "language_info": {
      "name": "python"
    }
  },
  "cells": [
    {
      "cell_type": "markdown",
      "metadata": {
        "id": "view-in-github",
        "colab_type": "text"
      },
      "source": [
        "<a href=\"https://colab.research.google.com/github/ApekshaGawade/Python/blob/main/Day1.ipynb\" target=\"_parent\"><img src=\"https://colab.research.google.com/assets/colab-badge.svg\" alt=\"Open In Colab\"/></a>"
      ]
    },
    {
      "cell_type": "code",
      "metadata": {
        "colab": {
          "base_uri": "https://localhost:8080/"
        },
        "id": "ujpNPpiz_nTd",
        "outputId": "b45524f8-ec67-43c0-f689-636252000347"
      },
      "source": [
        "#Descending order\n",
        "values=input(\"Enter the values: \")\n",
        "val=[int(i) for i in values.split()]\n",
        "val.sort()\n",
        "val.reverse()\n",
        "print(val)"
      ],
      "execution_count": 1,
      "outputs": [
        {
          "output_type": "stream",
          "text": [
            "Enter the values: 10 100 20 90 30 80\n",
            "[100, 90, 80, 30, 20, 10]\n"
          ],
          "name": "stdout"
        }
      ]
    }
  ]
}