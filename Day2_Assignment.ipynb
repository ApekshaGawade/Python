{
  "nbformat": 4,
  "nbformat_minor": 0,
  "metadata": {
    "colab": {
      "name": "Day2_Assignment.ipynb",
      "provenance": [],
      "collapsed_sections": [],
      "authorship_tag": "ABX9TyM1goyhqf1xjnMhlCeXTvRn",
      "include_colab_link": true
    },
    "kernelspec": {
      "name": "python3",
      "display_name": "Python 3"
    },
    "language_info": {
      "name": "python"
    }
  },
  "cells": [
    {
      "cell_type": "markdown",
      "metadata": {
        "id": "view-in-github",
        "colab_type": "text"
      },
      "source": [
        "<a href=\"https://colab.research.google.com/github/ApekshaGawade/Python/blob/main/Day2_Assignment.ipynb\" target=\"_parent\"><img src=\"https://colab.research.google.com/assets/colab-badge.svg\" alt=\"Open In Colab\"/></a>"
      ]
    },
    {
      "cell_type": "code",
      "metadata": {
        "colab": {
          "base_uri": "https://localhost:8080/"
        },
        "id": "DiAkSaFeKhRz",
        "outputId": "8a94078d-c6a2-4bc4-a73d-b4104b0326e3"
      },
      "source": [
        "#Assignment 2 \n",
        "# Remove all occurances of an element from a list\n",
        "ar= [10,20,30,40,50,60,70,80,30,20,10,20]\n",
        "ele=int(input(\"Enter the element to be deleted: \"))\n",
        "for i in ar:\n",
        "  if(i==ele):\n",
        "    ar.remove(i)\n",
        "print(ar)"
      ],
      "execution_count": 15,
      "outputs": [
        {
          "output_type": "stream",
          "text": [
            "Enter the element to be deleted: 20\n",
            "[10, 30, 40, 50, 60, 70, 80, 30, 10]\n"
          ],
          "name": "stdout"
        }
      ]
    },
    {
      "cell_type": "code",
      "metadata": {
        "id": "Dk5bbBl3Mjzd"
      },
      "source": [
        ""
      ],
      "execution_count": null,
      "outputs": []
    }
  ]
}