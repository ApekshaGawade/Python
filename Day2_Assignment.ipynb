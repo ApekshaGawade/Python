{
  "nbformat": 4,
  "nbformat_minor": 0,
  "metadata": {
    "colab": {
      "name": "Day2_Assignment.ipynb",
      "provenance": [],
      "collapsed_sections": [],
      "authorship_tag": "ABX9TyOi5b2HH+2eiQoGd9z9S7sa",
      "include_colab_link": true
    },
    "kernelspec": {
      "name": "python3",
      "display_name": "Python 3"
    },
    "language_info": {
      "name": "python"
    }
  },
  "cells": [
    {
      "cell_type": "markdown",
      "metadata": {
        "id": "view-in-github",
        "colab_type": "text"
      },
      "source": [
        "<a href=\"https://colab.research.google.com/github/ApekshaGawade/Python/blob/main/Day2_Assignment.ipynb\" target=\"_parent\"><img src=\"https://colab.research.google.com/assets/colab-badge.svg\" alt=\"Open In Colab\"/></a>"
      ]
    },
    {
      "cell_type": "code",
      "metadata": {
        "colab": {
          "base_uri": "https://localhost:8080/"
        },
        "id": "DiAkSaFeKhRz",
        "outputId": "8a94078d-c6a2-4bc4-a73d-b4104b0326e3"
      },
      "source": [
        "#Assignment 2 \n",
        "# Remove all occurances of an element from a list\n",
        "ar= [10,20,30,40,50,60,70,80,30,20,10,20]\n",
        "ele=int(input(\"Enter the element to be deleted: \"))\n",
        "for i in ar:\n",
        "  if(i==ele):\n",
        "    ar.remove(i)\n",
        "print(ar)"
      ],
      "execution_count": null,
      "outputs": [
        {
          "output_type": "stream",
          "text": [
            "Enter the element to be deleted: 20\n",
            "[10, 30, 40, 50, 60, 70, 80, 30, 10]\n"
          ],
          "name": "stdout"
        }
      ]
    },
    {
      "cell_type": "code",
      "metadata": {
        "colab": {
          "base_uri": "https://localhost:8080/"
        },
        "id": "a_eAwSRXHQ8o",
        "outputId": "e521fe0e-7ac3-46ec-e946-852d3c835d8a"
      },
      "source": [
        "#Modules\n",
        "#Generating OTP Project\n",
        "#import random and string module\n",
        "import random as r\n",
        "import string\n",
        "\n",
        "#length of OTP\n",
        "length = 6\n",
        "OTP=''\n",
        "\n",
        "characters = string.ascii_letters + string.digits\n",
        "for i in range(length):\n",
        "  OTP+=r.choice(characters)\n",
        "print(\"OTP: \",OTP)"
      ],
      "execution_count": 1,
      "outputs": [
        {
          "output_type": "stream",
          "text": [
            "OTP:  W9aJYa\n"
          ],
          "name": "stdout"
        }
      ]
    },
    {
      "cell_type": "code",
      "metadata": {
        "id": "Dk5bbBl3Mjzd"
      },
      "source": [
        ""
      ],
      "execution_count": null,
      "outputs": []
    }
  ]
}