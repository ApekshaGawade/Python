{
  "nbformat": 4,
  "nbformat_minor": 0,
  "metadata": {
    "colab": {
      "name": "Day1_Zero_to Hero.ipynb",
      "provenance": [],
      "collapsed_sections": [],
      "authorship_tag": "ABX9TyOfk8eGaa/lT8h+j9uAYJHQ",
      "include_colab_link": true
    },
    "kernelspec": {
      "name": "python3",
      "display_name": "Python 3"
    },
    "language_info": {
      "name": "python"
    }
  },
  "cells": [
    {
      "cell_type": "markdown",
      "metadata": {
        "id": "view-in-github",
        "colab_type": "text"
      },
      "source": [
        "<a href=\"https://colab.research.google.com/github/ApekshaGawade/Python/blob/main/Day1_Zero_to_Hero.ipynb\" target=\"_parent\"><img src=\"https://colab.research.google.com/assets/colab-badge.svg\" alt=\"Open In Colab\"/></a>"
      ]
    },
    {
      "cell_type": "code",
      "metadata": {
        "id": "J89Yi9hXbPvp",
        "colab": {
          "base_uri": "https://localhost:8080/"
        },
        "outputId": "ea8194a9-4a9a-4a75-ecc3-a01be6d38526"
      },
      "source": [
        "print(\"Hello\")\n",
        "print(\"World\")\n",
        "print(\"Hello\", end=' ')\n",
        "print(\"World\")\n",
        "print(\"Hello\",\"World\")\n",
        "a='abc'\n",
        "print(type(a))"
      ],
      "execution_count": null,
      "outputs": [
        {
          "output_type": "stream",
          "text": [
            "Hello\n",
            "World\n",
            "Hello World\n",
            "Hello World\n",
            "<class 'str'>\n"
          ],
          "name": "stdout"
        }
      ]
    },
    {
      "cell_type": "code",
      "metadata": {
        "colab": {
          "base_uri": "https://localhost:8080/"
        },
        "id": "a8osnh-4uuCp",
        "outputId": "8865ecb0-4f06-4dc5-f4f4-c3a421947972"
      },
      "source": [
        "x=10\n",
        "y=20\n",
        "z=30\n",
        "print(x,y,z)\n",
        "print(id(x))\n",
        "print(id(y))\n",
        "print(id(z))\n",
        "a,b,c= 10,10,10\n",
        "print(a,b,c)\n",
        "print(id(a))\n",
        "print(id(b))\n",
        "print(id(c))"
      ],
      "execution_count": null,
      "outputs": [
        {
          "output_type": "stream",
          "text": [
            "10 20 30\n",
            "94186200705824\n",
            "94186200706144\n",
            "94186200706464\n",
            "10 10 10\n",
            "94186200705824\n",
            "94186200705824\n",
            "94186200705824\n"
          ],
          "name": "stdout"
        }
      ]
    },
    {
      "cell_type": "code",
      "metadata": {
        "colab": {
          "base_uri": "https://localhost:8080/"
        },
        "id": "4QsPV1-0u5Vv",
        "outputId": "50d5b39d-bacd-4579-f2c0-df50a8a0cab6"
      },
      "source": [
        "str=\"string\"\n",
        "print(id(str))\n",
        "print(type(id(str)))"
      ],
      "execution_count": null,
      "outputs": [
        {
          "output_type": "stream",
          "text": [
            "139688147001136\n",
            "<class 'int'>\n"
          ],
          "name": "stdout"
        }
      ]
    },
    {
      "cell_type": "code",
      "metadata": {
        "colab": {
          "base_uri": "https://localhost:8080/"
        },
        "id": "LOvqnLKTx4Cj",
        "outputId": "586965d9-56ba-43d1-d390-0e6c1ad699e6"
      },
      "source": [
        "x=int(input(\"Enter 1st value\"))\n",
        "y=int(input(\"Enter 2nd value\"))\n",
        "print(x+y)"
      ],
      "execution_count": null,
      "outputs": [
        {
          "output_type": "stream",
          "text": [
            "Enter 1st value2\n",
            "Enter 2nd value3\n",
            "5\n"
          ],
          "name": "stdout"
        }
      ]
    },
    {
      "cell_type": "code",
      "metadata": {
        "colab": {
          "base_uri": "https://localhost:8080/"
        },
        "id": "nhJtYJWkyRtX",
        "outputId": "f66f7719-0822-46c1-87e6-d7aeb3a3555a"
      },
      "source": [
        "x=input('Enter values: ')\n",
        "print(x)\n",
        "print((type(x)))"
      ],
      "execution_count": null,
      "outputs": [
        {
          "output_type": "stream",
          "text": [
            "Enter values: 10 20 30 40\n",
            "10 20 30 40\n",
            "<class 'str'>\n"
          ],
          "name": "stdout"
        }
      ]
    },
    {
      "cell_type": "code",
      "metadata": {
        "colab": {
          "base_uri": "https://localhost:8080/"
        },
        "id": "HZbdXw0n2sc0",
        "outputId": "e40ea675-ab9b-4d39-cd17-310fd78f7bd1"
      },
      "source": [
        "# List\n",
        "x=input('Enter values: ')\n",
        "val= [int(i) for i in x.split()]\n",
        "print(val)"
      ],
      "execution_count": null,
      "outputs": [
        {
          "output_type": "stream",
          "text": [
            "Enter values: 10 20 30\n",
            "[10, 20, 30]\n"
          ],
          "name": "stdout"
        }
      ]
    },
    {
      "cell_type": "code",
      "metadata": {
        "colab": {
          "base_uri": "https://localhost:8080/"
        },
        "id": "w472sr9m3UoN",
        "outputId": "1231e239-0e62-426e-fe69-8545025ab7d2"
      },
      "source": [
        "l=['HI','hello',1,2,3]\n",
        "print(l)\n",
        "print(type(l))"
      ],
      "execution_count": null,
      "outputs": [
        {
          "output_type": "stream",
          "text": [
            "['HI', 'hello', 1, 2, 3]\n",
            "<class 'list'>\n"
          ],
          "name": "stdout"
        }
      ]
    },
    {
      "cell_type": "code",
      "metadata": {
        "colab": {
          "base_uri": "https://localhost:8080/"
        },
        "id": "-lRXJpFA5o0a",
        "outputId": "bb5acea7-435a-4d9d-da22-00df51a07265"
      },
      "source": [
        "li=[90,32,1,50,6]\n",
        "li.sort()\n",
        "print(li)"
      ],
      "execution_count": null,
      "outputs": [
        {
          "output_type": "stream",
          "text": [
            "[1, 6, 32, 50, 90]\n"
          ],
          "name": "stdout"
        }
      ]
    },
    {
      "cell_type": "code",
      "metadata": {
        "colab": {
          "base_uri": "https://localhost:8080/"
        },
        "id": "Yqw9Pg77578K",
        "outputId": "459b889a-93ce-4fa3-eb69-c94a0f957919"
      },
      "source": [
        "li=[90,32,1,50,6]\n",
        "li.reverse()\n",
        "print(li)"
      ],
      "execution_count": null,
      "outputs": [
        {
          "output_type": "stream",
          "text": [
            "[6, 50, 1, 32, 90]\n"
          ],
          "name": "stdout"
        }
      ]
    },
    {
      "cell_type": "code",
      "metadata": {
        "colab": {
          "base_uri": "https://localhost:8080/"
        },
        "id": "9JjO7sH26CEm",
        "outputId": "349d9410-8f54-4c5b-8661-121ed9d0cd8a"
      },
      "source": [
        "#Slicing\n",
        "li=[90,32,1,50,6]\n",
        "\n",
        "print(li[:4])"
      ],
      "execution_count": null,
      "outputs": [
        {
          "output_type": "stream",
          "text": [
            "[90, 32, 1, 50]\n"
          ],
          "name": "stdout"
        }
      ]
    },
    {
      "cell_type": "code",
      "metadata": {
        "colab": {
          "base_uri": "https://localhost:8080/"
        },
        "id": "i9erZlGd61Pk",
        "outputId": "03567d60-f65d-4691-c1a4-4207ff90265f"
      },
      "source": [
        "#Descending order\n",
        "values=input(\"Enter the values: \")\n",
        "val=[int(i) for i in values.split()]\n",
        "val.sort()\n",
        "val.reverse()\n",
        "print(val)"
      ],
      "execution_count": null,
      "outputs": [
        {
          "output_type": "stream",
          "text": [
            "Enter the values: 10 100 20 90 30 80\n",
            "[100, 90, 80, 30, 20, 10]\n"
          ],
          "name": "stdout"
        }
      ]
    }
  ]
}