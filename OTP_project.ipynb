{
  "nbformat": 4,
  "nbformat_minor": 0,
  "metadata": {
    "colab": {
      "name": "OTP_project.ipynb",
      "provenance": [],
      "authorship_tag": "ABX9TyMXcapy1J2VgotkegzG4yiQ",
      "include_colab_link": true
    },
    "kernelspec": {
      "name": "python3",
      "display_name": "Python 3"
    },
    "language_info": {
      "name": "python"
    }
  },
  "cells": [
    {
      "cell_type": "markdown",
      "metadata": {
        "id": "view-in-github",
        "colab_type": "text"
      },
      "source": [
        "<a href=\"https://colab.research.google.com/github/ApekshaGawade/Python/blob/main/OTP_project.ipynb\" target=\"_parent\"><img src=\"https://colab.research.google.com/assets/colab-badge.svg\" alt=\"Open In Colab\"/></a>"
      ]
    },
    {
      "cell_type": "code",
      "metadata": {
        "id": "85jgwnmsYd8F",
        "colab": {
          "base_uri": "https://localhost:8080/"
        },
        "outputId": "595aa69a-a1d5-4047-edc1-4d20c62c24a1"
      },
      "source": [
        "#Modules\n",
        "#Generating OTP\n",
        "#import random and string module\n",
        "import random as r\n",
        "import string\n",
        "\n",
        "#length of OTP\n",
        "length = 6\n",
        "OTP=''\n",
        "\n",
        "characters = string.ascii_letters + string.digits\n",
        "for i in range(length):\n",
        "  OTP+=r.choice(characters)\n",
        "print(\"OTP: \",OTP)\n"
      ],
      "execution_count": 15,
      "outputs": [
        {
          "output_type": "stream",
          "text": [
            "OTP:  EjcX5K\n"
          ],
          "name": "stdout"
        }
      ]
    }
  ]
}